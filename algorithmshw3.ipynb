{
 "cells": [
  {
   "cell_type": "markdown",
   "id": "2808fdf9",
   "metadata": {},
   "source": [
    "# Sorting"
   ]
  },
  {
   "cell_type": "code",
   "execution_count": 1,
   "id": "b46b410f",
   "metadata": {},
   "outputs": [],
   "source": [
    "import time                       #Python time module allows you to work with all time-related functions.\n",
    "import numpy as np\n",
    "np.random.seed(0)                 #same set of random numbers"
   ]
  },
  {
   "cell_type": "markdown",
   "id": "7dbcaac0",
   "metadata": {},
   "source": [
    "### Insertion Sort"
   ]
  },
  {
   "cell_type": "code",
   "execution_count": 2,
   "id": "b04ff63f",
   "metadata": {},
   "outputs": [],
   "source": [
    "def insertion_sort(arr):                       #define function that uses insertion sort to order an array\n",
    "    \n",
    "    for j in range(1,len(arr)):                #para la variable  j en un rango de 1 a la longitud de n, en pasos de 1\n",
    "        key=arr[j]                             #defino la variable key para guardar el valor de la posición j en mi arreglo m\n",
    "        i=j-1                                  #defino i como la posicion anterior a j\n",
    "        while i >= 0 and arr[i] > key:         #mientras que i >= 0 y la posicion i de mi arreglo > key\n",
    "            arr[i+1]=arr[i]                    #en la posicion i+1 pongo el valor de \n",
    "            i=i-1                              #redefino i como el valor i anterior -1\n",
    "        arr[i+1]=key                           #pongo en la posicion i+1 a key\n",
    "    return arr"
   ]
  },
  {
   "cell_type": "code",
   "execution_count": 3,
   "id": "eb683d61",
   "metadata": {},
   "outputs": [],
   "source": [
    "#This method is just to calculate the time, if you don't need it, don't worry\n",
    "def insertion_algorithm(arr):\n",
    "    start = time.time()\n",
    "    insertion_sort(arr)\n",
    "    end = time.time()\n",
    "    print(\"The time of execution of above program is :\", (end-start) * 10**3, \"ms\", \"for a size of \", len(arr))\n",
    "    return arr"
   ]
  },
  {
   "cell_type": "code",
   "execution_count": 4,
   "id": "ada6101a",
   "metadata": {},
   "outputs": [],
   "source": [
    "data = np.random.randint(1,10000,17000)       #hace un arreglo de 17000 elementos aleatorios entre 1 y 10000"
   ]
  },
  {
   "cell_type": "code",
   "execution_count": 5,
   "id": "938bce08",
   "metadata": {},
   "outputs": [
    {
     "name": "stdout",
     "output_type": "stream",
     "text": [
      "The time of execution of above program is : 15530.068397521973 ms for a size of  17000\n"
     ]
    },
    {
     "data": {
      "text/plain": [
       "array([   1,    1,    1, ..., 9999, 9999, 9999])"
      ]
     },
     "execution_count": 5,
     "metadata": {},
     "output_type": "execute_result"
    }
   ],
   "source": [
    "insertion_algorithm(data)"
   ]
  },
  {
   "cell_type": "markdown",
   "id": "660c72b1",
   "metadata": {},
   "source": [
    "### Merge Sort"
   ]
  },
  {
   "cell_type": "code",
   "execution_count": 6,
   "id": "bbe7cf8e",
   "metadata": {},
   "outputs": [],
   "source": [
    "def merge_sort(arr):                       #defino la función merge_sort que tendrá como argumento un array\n",
    "    if len(arr)>1:                         #si la longitud de este array es mayor que 1\n",
    "        mid=len(arr)//2                    #tomo esta longitud y calculo la mitad aproximando al menor entero\n",
    "        left=arr[:mid]                     #divido el array en la parte izq\n",
    "        right=arr[mid:]                    #y en la parte derecha\n",
    "        \n",
    "        merge_sort(left)                   #aplico el metodo a la parte izq\n",
    "        merge_sort(right)                  #y a la parte der\n",
    "        \n",
    "        i = j = k = 0                      #defino valores inicales para las variables i, j, k\n",
    "\n",
    "        while i < len(left) and j < len(right):          #mientras i < la longitud de left y m < que la longitud de right\n",
    "            if left[i] < right[j]:                       #si el valor en i de left es menor que el valor en j de right\n",
    "                arr[k] = left[i]                         #k de arr será i de left\n",
    "                i += 1                                   #sumo 1 al valor ya existente de i\n",
    "            else:                                        #si el valor en i de left NO es menor que el valor en j de right\n",
    "                arr[k] = right[j]                          #k de arr será J de left\n",
    "                j += 1                                   #sumo 1 al valor ya existente de j\n",
    "            k += 1                                       #sumo 1 al valor ya existente de k\n",
    "            \n",
    "            #mientras se alcanza el final de left y right, sus elementos se ubican correctamente en el arreglo arr inicial\n",
    "\n",
    "        while i < len(left):                             #mientras i sea menor que la longitud de left\n",
    "            arr[k] = left[i]\n",
    "            i += 1\n",
    "            k += 1\n",
    "\n",
    "        while j < len(right):\n",
    "            arr[k] = right[j]\n",
    "            j += 1\n",
    "            k += 1\n",
    "    return(arr)\n",
    "        "
   ]
  },
  {
   "cell_type": "code",
   "execution_count": 7,
   "id": "aed116e6",
   "metadata": {},
   "outputs": [],
   "source": [
    "#This method is just to calculate the time, if you don't need it, don't worry\n",
    "def merge_algorithm(arr):\n",
    "    start = time.time()\n",
    "    merge_sort(arr)\n",
    "    end = time.time()\n",
    "    print(\"The time of execution of above program is :\", (end-start) * 10**3, \"ms\", \"for a size of \", len(arr))\n",
    "    return arr"
   ]
  },
  {
   "cell_type": "code",
   "execution_count": 8,
   "id": "b2a7dbef",
   "metadata": {},
   "outputs": [],
   "source": [
    "data = np.random.randint(1,10000,17000)"
   ]
  },
  {
   "cell_type": "code",
   "execution_count": 9,
   "id": "65df9aa5",
   "metadata": {},
   "outputs": [
    {
     "name": "stdout",
     "output_type": "stream",
     "text": [
      "The time of execution of above program is : 84.70630645751953 ms for a size of  17000\n"
     ]
    },
    {
     "data": {
      "text/plain": [
       "array([   1,    1,    1, ..., 1872, 1872, 2844])"
      ]
     },
     "execution_count": 9,
     "metadata": {},
     "output_type": "execute_result"
    }
   ],
   "source": [
    "merge_algorithm(data)"
   ]
  },
  {
   "attachments": {},
   "cell_type": "markdown",
   "id": "9d4798e7",
   "metadata": {},
   "source": [
    "### Algorithm of your choice: Radix Sort\n",
    "\n",
    "Know implement another algorithm, anyone works. Use the same size of data.\n",
    "\n",
    "Radix sort works by sorting each digit from least significant digit to most significant digit. So in base 10 (the decimal system), radix sort would sort by the digits in the 1's place, then the 10’s place, and so on."
   ]
  },
  {
   "cell_type": "code",
   "execution_count": 10,
   "id": "a31dda65",
   "metadata": {},
   "outputs": [],
   "source": [
    "def counting_sort(arr, place):                #radix sort uses counting sort as a subroutine to order \n",
    "    size = len(arr)                           #define size as the lenght of the array\n",
    "    output = [0] * size                         #create an array of zeros with the same size of the array \n",
    "    count = [0] * 10                            #create an array of ceros of lenght 10 to store the frecuency of the digits\n",
    "\n",
    "    for i in range(0, size):                    #calculate count of elements \n",
    "        index = arr[i] // place               #index is the value of the position i divided by place\n",
    "        count[index % 10] += 1                  #count index module 10 (because we want the frecuency of digits in the position we chose)\n",
    "\n",
    "\n",
    "    for i in range(1, 10):                      #calculate cumulative count\n",
    "        count[i] += count[i - 1]\n",
    "\n",
    "    i = size - 1                                #place the elements in sorted order \n",
    "    while i >= 0:\n",
    "        index = arr[i] // place\n",
    "        output[count[index % 10] - 1] = arr[i]\n",
    "        count[index % 10] -= 1\n",
    "        i -= 1\n",
    "\n",
    "    for i in range(0, size):                    #gives the array sorted by the place we chose\n",
    "        arr[i] = output[i]\n",
    "\n",
    "\n",
    "def radix_sort(arr):\n",
    "    # Get maximum element\n",
    "    max_element = np.max(arr)\n",
    "\n",
    "    # Apply counting sort to sort elements based on place value.\n",
    "    place = 1\n",
    "    while max_element // place > 0:\n",
    "        counting_sort(arr, place)\n",
    "        place *= 10\n"
   ]
  },
  {
   "cell_type": "code",
   "execution_count": 11,
   "id": "19e619ff",
   "metadata": {},
   "outputs": [],
   "source": [
    "def counting_algorithm(arr,place):\n",
    "    start = time.time()\n",
    "    counting_sort(arr,place)\n",
    "    end = time.time()\n",
    "    print(\"The time of execution of above program is :\", (end-start) * 10**3, \"ms\", \"for a size of \", len(arr))\n",
    "    return arr\n",
    "\n",
    "def radix_algorithm(arr):\n",
    "    start = time.time()\n",
    "    radix_sort(arr)\n",
    "    end = time.time()\n",
    "    print(\"The time of execution of above program is :\", (end-start) * 10**3, \"ms\", \"for a size of \", len(arr))\n",
    "    return arr"
   ]
  },
  {
   "cell_type": "code",
   "execution_count": 12,
   "id": "573001ac",
   "metadata": {},
   "outputs": [],
   "source": [
    "data = np.random.randint(1,10000,17000)"
   ]
  },
  {
   "cell_type": "code",
   "execution_count": 13,
   "id": "1fb9864e",
   "metadata": {},
   "outputs": [
    {
     "name": "stdout",
     "output_type": "stream",
     "text": [
      "The time of execution of above program is : 15.004873275756836 ms for a size of  17000\n"
     ]
    },
    {
     "data": {
      "text/plain": [
       "array([ 420, 7320,  580, ..., 6849, 4359, 4889])"
      ]
     },
     "execution_count": 13,
     "metadata": {},
     "output_type": "execute_result"
    }
   ],
   "source": [
    "counting_algorithm(data,1)"
   ]
  },
  {
   "cell_type": "code",
   "execution_count": 14,
   "id": "d728b188",
   "metadata": {},
   "outputs": [
    {
     "name": "stdout",
     "output_type": "stream",
     "text": [
      "The time of execution of above program is : 75.08563995361328 ms for a size of  17000\n"
     ]
    },
    {
     "data": {
      "text/plain": [
       "array([   1,    1,    2, ..., 9996, 9998, 9998])"
      ]
     },
     "execution_count": 14,
     "metadata": {},
     "output_type": "execute_result"
    }
   ],
   "source": [
    "radix_algorithm(data)"
   ]
  },
  {
   "cell_type": "code",
   "execution_count": 15,
   "id": "2f0cee45",
   "metadata": {},
   "outputs": [
    {
     "name": "stdout",
     "output_type": "stream",
     "text": [
      "9998\n",
      "4.999913132416571\n"
     ]
    }
   ],
   "source": [
    "max=np.max(data)\n",
    "print(max)\n",
    "d=np.log10(max)+1\n",
    "print(d)"
   ]
  },
  {
   "attachments": {},
   "cell_type": "markdown",
   "id": "b98116c0",
   "metadata": {},
   "source": [
    "The order of the radix algorithm is $O(d(n+b))$ where $b=base=10$ and $d=log_{10}(max)+1$. So in this case, $O(f(n))=O(4,99(n+10))$"
   ]
  },
  {
   "attachments": {},
   "cell_type": "markdown",
   "id": "7a20750b",
   "metadata": {},
   "source": [
    "### Conclusions\n",
    "\n",
    "- So, the algorithm matters! Even when the result is the same, the time it takes is important. We are in the era of Big Data, if we are not careful, some processing might take centuries!\n",
    "- Among the sorting algorithms we find linear, loglinear and quadratic order complexities. The difference lies in whether or not there is a comparison between the elements of the array to be sorted and how this comparison is made."
   ]
  }
 ],
 "metadata": {
  "kernelspec": {
   "display_name": "work",
   "language": "python",
   "name": "python3"
  },
  "language_info": {
   "codemirror_mode": {
    "name": "ipython",
    "version": 3
   },
   "file_extension": ".py",
   "mimetype": "text/x-python",
   "name": "python",
   "nbconvert_exporter": "python",
   "pygments_lexer": "ipython3",
   "version": "3.11.2"
  },
  "vscode": {
   "interpreter": {
    "hash": "7dc07d5aecfb5f1e5c0ce6bf7022711ccf6273178fedfc49e93b408b0a83874c"
   }
  }
 },
 "nbformat": 4,
 "nbformat_minor": 5
}
