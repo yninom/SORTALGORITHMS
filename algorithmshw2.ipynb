{
 "cells": [
  {
   "attachments": {},
   "cell_type": "markdown",
   "metadata": {},
   "source": [
    "# Homework 2"
   ]
  },
  {
   "attachments": {},
   "cell_type": "markdown",
   "metadata": {},
   "source": [
    "1. ¿What is selection sorting?\n",
    "\n",
    "Selection Sort is a sorting algorithm that requires operations $O(n^{2})$ to sort a list of n elements. It works as follows:\n",
    "\n",
    "- Search for the smallest item in the list\n",
    "- Exchange it with the first one\n",
    "- Find the next lowest item in the rest of the list\n",
    "- Swap it with the second one\n",
    "\n",
    "And in general:\n",
    "\n",
    "- Search for the minimum element between a position i and the end of the list.\n",
    "- Exchange the minimum with the element of the position i.\n",
    "\n",
    "The simplest selection method is perhaps the following:\n",
    "- Find the smallest key; transfer the corresponding record to the output area;\n",
    "then replace the key by the value ∞ (which is assumed to be higher than\n",
    "any actual key).\n",
    "- Repeat step one. This time the second smallest key will be selected, since\n",
    "the smallest key has been replaced by $\\infty$.\n",
    "- Continue repeating step one until N records have been selected.\n",
    "\n",
    "The intuitive implementation would be:\n"
   ]
  },
  {
   "cell_type": "code",
   "execution_count": 5,
   "metadata": {},
   "outputs": [],
   "source": [
    "import numpy as np\n",
    "import matplotlib.pyplot as plt\n",
    "import math\n",
    "\n"
   ]
  },
  {
   "cell_type": "code",
   "execution_count": 6,
   "metadata": {},
   "outputs": [],
   "source": [
    "#input n\n",
    "#output arreglo ordenado n\n",
    "\n",
    "n=[8,10,4,66,9,0,45,65,23,90,2,1324,3,5]              #input: datos que quiero ordenar             \n",
    "   \n",
    "for i in range(len(n)):                               #para la variable i en un rango desde 0 hasta 14, de 1 en 1\n",
    "    pos_min = i                                       #igualo la variable pos_min a la variable i\n",
    "    for j in range(i+1,len(n)):                       #para la variable j en un rango hasta 15 desde i+1 de 1 en 1\n",
    "        if n[j] < n[pos_min]:                         #si la posicion j en n es menor que pos_min en n\n",
    "            pos_min=j                                 #igualo pos_min a j\n",
    "    temp=n[pos_min]                                   #en la variable temporal temp guardo la nueva pos_min\n",
    "    n[pos_min]=n[i]                                   #en la posicion del nuevo pos_min pongo el valor del inicial i\n",
    "    n[i]=temp                                         #en la posicion inicial i pongo el valor del nuevo posmin\n",
    "    \n",
    "#Solo voy trayendo seleccionando numeros mayores a los que ya seleccioné y tengo ordenados"
   ]
  },
  {
   "attachments": {},
   "cell_type": "markdown",
   "metadata": {},
   "source": [
    "2. Implement Insertion Sort in Python"
   ]
  },
  {
   "attachments": {},
   "cell_type": "markdown",
   "metadata": {},
   "source": [
    "Insertion sort is a simple sorting algorithm that works similar to the way you sort playing cards in your hands. The array is virtually split into a sorted and an unsorted part. Values from the unsorted part are picked and placed at the correct position in the sorted part.\n",
    "\n",
    "Imagine you are playing a card game. You have the cards in your hand and the cards are sorted. You take exactly one new card from the deck. You have to place it in the right place so that the cards in your hand are still sorted. In sorting by selection, each element you add to the sorted subarray is greater than or equal to the elements already in the sorted subarray. But in our example of the cards, the new card might be less than some of the cards you already have in your hand, so you go one by one, comparing the new card with each of the cards you already have in your hand, until you find the place where it should be placed. You insert the new card in the correct place and, once again, you have completely sorted cards in your hand. Then you take another card from the deck and repeat the same procedure. Then another card, and another, and so on, until you finish with the deck.\n",
    "\n",
    "The complexity is $O(n^{2})$"
   ]
  },
  {
   "cell_type": "code",
   "execution_count": 8,
   "metadata": {},
   "outputs": [],
   "source": [
    "#input n\n",
    "#output arreglo ordenado n\n",
    "\n",
    "m=[14,18,33,5,0,98,111,22,9,1,25,423,67,4,7]         #input: datos que quiero ordenar       \n",
    "         \n",
    "for j in range(1,len(m)):                            #para la variable  j en un rango de 1 a la longitud de n, en pasos de 1\n",
    "    key=m[j]                                         #defino la variable key para guardar el valor de la posición j en mi arreglo m\n",
    "    i=j-1                                            #defino i como la posicion anterior a j\n",
    "    while i >= 0 and m[i] > key:                      #mientras que i >= 0 y la posicion i de mi arreglo > key\n",
    "        m[i+1]=m[i]                                  #en la posicion i+1 pongo el valor de i\n",
    "        i=i-1                                        #redefino i como el valor i anterior -1\n",
    "    m[i+1]=key                                       #pongo en la posicion i+1 a key"
   ]
  },
  {
   "attachments": {},
   "cell_type": "markdown",
   "metadata": {},
   "source": [
    "3. Pseudocode of an algorithm that given n, shows de Fibonacci secuence from 1 to n."
   ]
  },
  {
   "attachments": {},
   "cell_type": "markdown",
   "metadata": {},
   "source": [
    "The Fibonacci series is an infinite sequence of natural numbers. It begins with 0 and 1, and each term is defined by the sum of the two previous numbers: 1, 1, 2, 3, 5, 8, 13, 21, ... "
   ]
  },
  {
   "attachments": {},
   "cell_type": "markdown",
   "metadata": {},
   "source": [
    "Input: A value N.\n",
    "\n",
    "Output: The first N Fibonacci numbers.\n",
    "\n",
    "N=20 (must be a positive integer)        #define the terms of th Fibonacci sequence I wnat to print\n",
    "\n",
    "a=0                                      #define the initial values \n",
    "\n",
    "b=1\n",
    "\n",
    "c=0\n",
    "\n",
    "i=0\n",
    "\n",
    "while i < N-2                            #as long as i < N-2\n",
    "\n",
    "      c=a+b                              #define the sum c = a+b \n",
    "\n",
    "      print(c)                           #print c\n",
    "\n",
    "      a=b                                #now a becomes b, a=1=b\n",
    "\n",
    "      b=c                                #b becomes the sum a+b=0+1=1\n",
    "\n",
    "      i=i+1                              #i becomes 1\n",
    "\n",
    "The complexity is O(n).\n",
    "\n",
    "\n"
   ]
  },
  {
   "cell_type": "code",
   "execution_count": 3,
   "metadata": {},
   "outputs": [
    {
     "name": "stdout",
     "output_type": "stream",
     "text": [
      "1\n",
      "2\n",
      "3\n",
      "5\n",
      "8\n",
      "13\n",
      "21\n",
      "34\n",
      "55\n",
      "89\n",
      "144\n",
      "233\n",
      "377\n",
      "610\n",
      "987\n",
      "1597\n",
      "2584\n",
      "4181\n"
     ]
    }
   ],
   "source": [
    "#Input: A value N.\n",
    "#Output: The first N Fibonacci numbers.\n",
    "\n",
    "N=20 #(must be a positive integer)       #define the terms of th Fibonacci sequence I wnat to print\n",
    "a=0                                      #define the initial values \n",
    "b=1\n",
    "c=0\n",
    "i=0\n",
    "\n",
    "while i < N-2 :                          #as long as i < N-2\n",
    "      c=a+b                              #define the sum c = a+b \n",
    "      print(c)                           #print c\n",
    "      a=b                                #now a becomes b, a=1=b\n",
    "      b=c                                #b becomes the sum a+b=0+1=1\n",
    "      i=i+1                              #i becomes 1"
   ]
  },
  {
   "attachments": {},
   "cell_type": "markdown",
   "metadata": {},
   "source": [
    "4. Pseudocode of a Convex Hull."
   ]
  },
  {
   "attachments": {},
   "cell_type": "markdown",
   "metadata": {},
   "source": [
    "In mathematics, the convex hull, convex envelope or convex capsule of a set of points X of dimension n is defined as the intersection of all convex sets containing X.\n",
    "\n",
    "In the particular case of points in a plane, if not all points are aligned, then their convex envelope corresponds to a convex polygon whose vertices are some of the points of the initial set of points."
   ]
  },
  {
   "attachments": {},
   "cell_type": "markdown",
   "metadata": {},
   "source": [
    "Input: A set of P points in the cartesian plane.\n",
    "\n",
    "Output: A convex polygon whose vertices are some of the points of the initial set of points, aka a convex hull.\n",
    "\n",
    "- Find the point with minimum x-coordinate lets say, min_x and similarly the point with maximum x-coordinate, max_x.\n",
    "- Make a line joining these two points, say L. This line will divide the the whole set into two parts. Take both the parts one by one and proceed further.\n",
    "- For a part, find the point P with maximum distance from the line L. P forms a triangle with the points min_x, max_x. It is clear that the points residing inside this triangle can never be the part of convex hull.\n",
    "- The above step divides the problem into two sub-problems (solved recursively). Now the line joining the points P and min_x and the line joining the points P and max_x are new lines and the points residing outside the triangle is the set of points. Repeat point no. 3 till there no point left with the line. Add the end points of this point to the convex hull.\n",
    "\n"
   ]
  }
 ],
 "metadata": {
  "kernelspec": {
   "display_name": "Python 3",
   "language": "python",
   "name": "python3"
  },
  "language_info": {
   "codemirror_mode": {
    "name": "ipython",
    "version": 3
   },
   "file_extension": ".py",
   "mimetype": "text/x-python",
   "name": "python",
   "nbconvert_exporter": "python",
   "pygments_lexer": "ipython3",
   "version": "3.11.2"
  },
  "orig_nbformat": 4,
  "vscode": {
   "interpreter": {
    "hash": "723c11544013e16bda673fc915cf862c0c49d52059cae1e3f1d296f7a0b00d8b"
   }
  }
 },
 "nbformat": 4,
 "nbformat_minor": 2
}
